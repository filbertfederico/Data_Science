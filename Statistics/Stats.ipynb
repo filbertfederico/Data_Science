{
 "cells": [
  {
   "cell_type": "code",
   "execution_count": 4,
   "metadata": {},
   "outputs": [],
   "source": [
    "import pandas as pd\n",
    "import numpy as np\n",
    "import statistics\n",
    "import math\n",
    "import sys\n",
    "import scipy.stats as stats"
   ]
  },
  {
   "cell_type": "code",
   "execution_count": 6,
   "metadata": {},
   "outputs": [
    {
     "data": {
      "text/html": [
       "<div>\n",
       "<style scoped>\n",
       "    .dataframe tbody tr th:only-of-type {\n",
       "        vertical-align: middle;\n",
       "    }\n",
       "\n",
       "    .dataframe tbody tr th {\n",
       "        vertical-align: top;\n",
       "    }\n",
       "\n",
       "    .dataframe thead th {\n",
       "        text-align: right;\n",
       "    }\n",
       "</style>\n",
       "<table border=\"1\" class=\"dataframe\">\n",
       "  <thead>\n",
       "    <tr style=\"text-align: right;\">\n",
       "      <th></th>\n",
       "      <th>Number Killed</th>\n",
       "      <th>Mental Illness Count</th>\n",
       "      <th>Trauma Count</th>\n",
       "      <th>mental_state_stats</th>\n",
       "    </tr>\n",
       "  </thead>\n",
       "  <tbody>\n",
       "    <tr>\n",
       "      <th>0</th>\n",
       "      <td>15</td>\n",
       "      <td>5</td>\n",
       "      <td>8</td>\n",
       "      <td>13</td>\n",
       "    </tr>\n",
       "    <tr>\n",
       "      <th>1</th>\n",
       "      <td>5</td>\n",
       "      <td>2</td>\n",
       "      <td>4</td>\n",
       "      <td>6</td>\n",
       "    </tr>\n",
       "    <tr>\n",
       "      <th>2</th>\n",
       "      <td>6</td>\n",
       "      <td>6</td>\n",
       "      <td>4</td>\n",
       "      <td>10</td>\n",
       "    </tr>\n",
       "    <tr>\n",
       "      <th>3</th>\n",
       "      <td>7</td>\n",
       "      <td>2</td>\n",
       "      <td>2</td>\n",
       "      <td>4</td>\n",
       "    </tr>\n",
       "    <tr>\n",
       "      <th>4</th>\n",
       "      <td>4</td>\n",
       "      <td>6</td>\n",
       "      <td>5</td>\n",
       "      <td>11</td>\n",
       "    </tr>\n",
       "    <tr>\n",
       "      <th>...</th>\n",
       "      <td>...</td>\n",
       "      <td>...</td>\n",
       "      <td>...</td>\n",
       "      <td>...</td>\n",
       "    </tr>\n",
       "    <tr>\n",
       "      <th>175</th>\n",
       "      <td>4</td>\n",
       "      <td>0</td>\n",
       "      <td>1</td>\n",
       "      <td>1</td>\n",
       "    </tr>\n",
       "    <tr>\n",
       "      <th>176</th>\n",
       "      <td>8</td>\n",
       "      <td>7</td>\n",
       "      <td>7</td>\n",
       "      <td>14</td>\n",
       "    </tr>\n",
       "    <tr>\n",
       "      <th>177</th>\n",
       "      <td>9</td>\n",
       "      <td>8</td>\n",
       "      <td>3</td>\n",
       "      <td>11</td>\n",
       "    </tr>\n",
       "    <tr>\n",
       "      <th>178</th>\n",
       "      <td>4</td>\n",
       "      <td>1</td>\n",
       "      <td>4</td>\n",
       "      <td>5</td>\n",
       "    </tr>\n",
       "    <tr>\n",
       "      <th>179</th>\n",
       "      <td>10</td>\n",
       "      <td>2</td>\n",
       "      <td>2</td>\n",
       "      <td>4</td>\n",
       "    </tr>\n",
       "  </tbody>\n",
       "</table>\n",
       "<p>180 rows × 4 columns</p>\n",
       "</div>"
      ],
      "text/plain": [
       "     Number Killed  Mental Illness Count  Trauma Count  mental_state_stats\n",
       "0               15                     5             8                  13\n",
       "1                5                     2             4                   6\n",
       "2                6                     6             4                  10\n",
       "3                7                     2             2                   4\n",
       "4                4                     6             5                  11\n",
       "..             ...                   ...           ...                 ...\n",
       "175              4                     0             1                   1\n",
       "176              8                     7             7                  14\n",
       "177              9                     8             3                  11\n",
       "178              4                     1             4                   5\n",
       "179             10                     2             2                   4\n",
       "\n",
       "[180 rows x 4 columns]"
      ]
     },
     "execution_count": 6,
     "metadata": {},
     "output_type": "execute_result"
    }
   ],
   "source": [
    "df = pd.read_csv(\"mental_illness_stats.csv\")\n",
    "df"
   ]
  },
  {
   "cell_type": "code",
   "execution_count": 8,
   "metadata": {},
   "outputs": [
    {
     "name": "stdout",
     "output_type": "stream",
     "text": [
      "the population mean of the number killed is 7.211111111111111\n",
      "the population mean of the amount of mental illness is 4.75\n",
      "the population mean of the trauma count is 3.8\n",
      "the population mean of the mental illness stats are 8.55\n",
      "the sample mean of the number killed is 7.4\n",
      "the sample mean of the amount of mental illness is 4.2\n",
      "the sample mean of the trauma count is 4.6\n",
      "the sample mean of the mental illness stats are 8.8\n"
     ]
    }
   ],
   "source": [
    "MeanKilled = statistics.mean(df['Number Killed'])\n",
    "MeanMental = statistics.mean(df['Mental Illness Count'])\n",
    "MeanTrauma = statistics.mean(df['Trauma Count'])\n",
    "MeanMentalStats = statistics.mean(df['mental_state_stats'])\n",
    "XKilled = ((15+5+6+7+4)/5)\n",
    "XMental = ((5+2+6+2+6)/5)\n",
    "XTrauma = ((8+4+4+2+5)/5)\n",
    "XMentalStats = ((13+6+10+4+11)/5)\n",
    "print(\"the population mean of the number killed is\", MeanKilled)\n",
    "print(\"the population mean of the amount of mental illness is\", MeanMental)\n",
    "print(\"the population mean of the trauma count is\", MeanTrauma)\n",
    "print(\"the population mean of the mental illness stats are\", MeanMentalStats)\n",
    "print(\"the sample mean of the number killed is\", XKilled)\n",
    "print(\"the sample mean of the amount of mental illness is\", XMental)\n",
    "print(\"the sample mean of the trauma count is\", XTrauma)\n",
    "print(\"the sample mean of the mental illness stats are\", XMentalStats)"
   ]
  },
  {
   "cell_type": "code",
   "execution_count": 10,
   "metadata": {},
   "outputs": [
    {
     "name": "stdout",
     "output_type": "stream",
     "text": [
      "Standard Deviation of Number Killed :  6.612996251996978\n",
      "Standard Deviation of Mental Illness Count :  2.663376694910882\n",
      "Standard Deviation of Trauma Count :  2.1018746620510145\n",
      "Standard Deviation of Mental State Stats :  4.029604136538315\n"
     ]
    }
   ],
   "source": [
    "def sd_calc(data):\n",
    "    n = len(df['Number Killed'])\n",
    "\n",
    "    if n <= 1:\n",
    "        return 0.0\n",
    "\n",
    "    mean, sd = avg_calc(data), 0.0\n",
    "\n",
    "    # calculate stan. dev.\n",
    "    for el in data:\n",
    "        sd += (float(el) - mean)**2\n",
    "    sd = math.sqrt(sd / float(n-1))\n",
    "\n",
    "    return sd\n",
    "\n",
    "def avg_calc(ls):\n",
    "    n, mean = len(ls), 0.0\n",
    "\n",
    "    if n <= 1:\n",
    "        return ls[0]\n",
    "\n",
    "    # calculate average\n",
    "    for el in ls:\n",
    "        mean = mean + float(el)\n",
    "    mean = mean / float(n)\n",
    "\n",
    "    return mean\n",
    "sdKilled = sd_calc(df['Number Killed'])\n",
    "sdMental = sd_calc(df['Mental Illness Count'])\n",
    "sdTrauma = sd_calc(df['Trauma Count'])\n",
    "sdMentalStats = sd_calc(df['mental_state_stats'])\n",
    "print(\"Standard Deviation of Number Killed : \",sdKilled)\n",
    "print(\"Standard Deviation of Mental Illness Count : \",sdMental)\n",
    "print(\"Standard Deviation of Trauma Count : \",sdTrauma)\n",
    "print(\"Standard Deviation of Mental State Stats : \",sdMentalStats)"
   ]
  },
  {
   "cell_type": "code",
   "execution_count": 11,
   "metadata": {},
   "outputs": [
    {
     "name": "stdout",
     "output_type": "stream",
     "text": [
      "The Test Statistic for the Number Killed is:  0.38321666577906943\n",
      "The Test Statistic for the Mental Illness Count is:  -2.7705522616642893\n",
      "The Test Statistic for the Trauma Count is:  5.106454007835833\n",
      "The Test Statistic for the Mental State Stats is:  0.8323651288315062\n"
     ]
    }
   ],
   "source": [
    "tKilled = (XKilled - MeanKilled) / (sdKilled / math.sqrt(len(df['Number Killed'])))\n",
    "tMental = (XMental - MeanMental) / (sdMental / math.sqrt(len(df['Mental Illness Count'])))\n",
    "tTrauma = (XTrauma - MeanTrauma) / (sdTrauma / math.sqrt(len(df['Trauma Count'])))\n",
    "tMentalStats = (XMentalStats - MeanMentalStats) / (sdMentalStats / math.sqrt(len(df['mental_state_stats'])))\n",
    "print(\"The Test Statistic for the Number Killed is: \", tKilled)\n",
    "print(\"The Test Statistic for the Mental Illness Count is: \", tMental)\n",
    "print(\"The Test Statistic for the Trauma Count is: \", tTrauma)\n",
    "print(\"The Test Statistic for the Mental State Stats is: \", tMentalStats)"
   ]
  },
  {
   "cell_type": "code",
   "execution_count": 12,
   "metadata": {},
   "outputs": [
    {
     "name": "stdout",
     "output_type": "stream",
     "text": [
      "The T Critical for the Number Killed is:  0.0021289814765503854\n",
      "The T Critical for the Mental Illness Count is:  -0.01539195700924605\n",
      "The T Critical for the Trauma Count is:  0.02836918893242129\n",
      "The T Critical for the Mental State Stats is:  0.004624250715730589\n"
     ]
    }
   ],
   "source": [
    "TKilled = (XKilled - MeanKilled) / (sdKilled) / (math.sqrt(len(df['Number Killed'])))\n",
    "TMental = (XMental - MeanMental) / (sdMental) / (math.sqrt(len(df['Mental Illness Count'])))\n",
    "TTrauma = (XTrauma - MeanTrauma) / (sdTrauma) / (math.sqrt(len(df['Trauma Count'])))\n",
    "TMentalStats = (XMentalStats - MeanMentalStats) / (sdMentalStats) / (math.sqrt(len(df['mental_state_stats'])))\n",
    "print(\"The T Critical for the Number Killed is: \", TKilled)\n",
    "print(\"The T Critical for the Mental Illness Count is: \", TMental)\n",
    "print(\"The T Critical for the Trauma Count is: \", TTrauma)\n",
    "print(\"The T Critical for the Mental State Stats is: \", TMentalStats)"
   ]
  }
 ],
 "metadata": {
  "kernelspec": {
   "display_name": "Python 3",
   "language": "python",
   "name": "python3"
  },
  "language_info": {
   "codemirror_mode": {
    "name": "ipython",
    "version": 3
   },
   "file_extension": ".py",
   "mimetype": "text/x-python",
   "name": "python",
   "nbconvert_exporter": "python",
   "pygments_lexer": "ipython3",
   "version": "3.9.13"
  },
  "orig_nbformat": 4,
  "vscode": {
   "interpreter": {
    "hash": "9d43d8db3ce393b13f9205b3ee4bd7b836c2bc822c4f39376bf311287bfb1494"
   }
  }
 },
 "nbformat": 4,
 "nbformat_minor": 2
}
